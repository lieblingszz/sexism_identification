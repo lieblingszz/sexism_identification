{
 "cells": [
  {
   "cell_type": "markdown",
   "id": "c85f566a",
   "metadata": {
    "id": "jSWVnSUby109"
   },
   "source": [
    "# Install packages and download dataset"
   ]
  },
  {
   "cell_type": "code",
   "execution_count": null,
   "id": "22b4d8a1",
   "metadata": {
    "id": "_Ww5hM6kE6XU"
   },
   "outputs": [],
   "source": [
    "# https://huggingface.co/google-bert/bert-base-multilingual-cased"
   ]
  },
  {
   "cell_type": "code",
   "execution_count": null,
   "id": "232aa091",
   "metadata": {
    "colab": {
     "base_uri": "https://localhost:8080/"
    },
    "executionInfo": {
     "elapsed": 8779,
     "status": "ok",
     "timestamp": 1719863101199,
     "user": {
      "displayName": "Jing Ma",
      "userId": "06301856347973252019"
     },
     "user_tz": -120
    },
    "id": "b2wxdcL3GDnX",
    "outputId": "532cac02-8f79-4ecf-e609-50e6ed46947c"
   },
   "outputs": [],
   "source": [
    "!pip install --upgrade pip\n",
    "!pip install sentencepiece\n",
    "!pip install datasets\n",
    "!pip install transformers"
   ]
  },
  {
   "cell_type": "code",
   "execution_count": null,
   "id": "aa07ac44",
   "metadata": {
    "colab": {
     "base_uri": "https://localhost:8080/"
    },
    "executionInfo": {
     "elapsed": 2157,
     "status": "ok",
     "timestamp": 1719863103347,
     "user": {
      "displayName": "Jing Ma",
      "userId": "06301856347973252019"
     },
     "user_tz": -120
    },
    "id": "hIfUrQP4hhr0",
    "outputId": "c9dcec63-1eff-414a-f397-1a5595b34043"
   },
   "outputs": [],
   "source": [
    "!pip install transformers[torch]"
   ]
  },
  {
   "cell_type": "code",
   "execution_count": null,
   "id": "e1975439",
   "metadata": {
    "colab": {
     "base_uri": "https://localhost:8080/"
    },
    "executionInfo": {
     "elapsed": 2283,
     "status": "ok",
     "timestamp": 1719863105625,
     "user": {
      "displayName": "Jing Ma",
      "userId": "06301856347973252019"
     },
     "user_tz": -120
    },
    "id": "93-MpbOShkQ6",
    "outputId": "66dd5802-30f2-4732-aff2-69c335494eaf"
   },
   "outputs": [],
   "source": [
    "!pip install optuna"
   ]
  },
  {
   "cell_type": "code",
   "execution_count": null,
   "id": "4241bf5a",
   "metadata": {
    "colab": {
     "base_uri": "https://localhost:8080/"
    },
    "executionInfo": {
     "elapsed": 2479,
     "status": "ok",
     "timestamp": 1719863108098,
     "user": {
      "displayName": "Jing Ma",
      "userId": "06301856347973252019"
     },
     "user_tz": -120
    },
    "id": "XeJ3oni2SMfA",
    "outputId": "bdb598fc-c5a8-4a7e-ba45-2ab13302343e"
   },
   "outputs": [],
   "source": [
    "!pip install accelerate -U"
   ]
  },
  {
   "cell_type": "markdown",
   "id": "efde151f",
   "metadata": {
    "id": "X2DGhaTw9YRi"
   },
   "source": [
    "# Prepare dataset"
   ]
  },
  {
   "cell_type": "code",
   "execution_count": null,
   "id": "2d6f8aca",
   "metadata": {
    "colab": {
     "base_uri": "https://localhost:8080/"
    },
    "executionInfo": {
     "elapsed": 2846,
     "status": "ok",
     "timestamp": 1719863110941,
     "user": {
      "displayName": "Jing Ma",
      "userId": "06301856347973252019"
     },
     "user_tz": -120
    },
    "id": "mZ4yO7zTSVpz",
    "outputId": "c06a7bf8-62f0-4109-dbc7-68245130ad23"
   },
   "outputs": [],
   "source": [
    "# Download the combined training data\n",
    "# Please ensure the combined_training_esen.json file is in the data directory\n",
    "# You can generate this file using the data processing notebook"
   ]
  },
  {
   "cell_type": "code",
   "execution_count": null,
   "id": "40982254",
   "metadata": {
    "colab": {
     "base_uri": "https://localhost:8080/"
    },
    "executionInfo": {
     "elapsed": 544,
     "status": "ok",
     "timestamp": 1719863111483,
     "user": {
      "displayName": "Jing Ma",
      "userId": "06301856347973252019"
     },
     "user_tz": -120
    },
    "id": "-uQP9LpVSziW",
    "outputId": "83f23a54-9ba4-439a-d6e2-6e269101100d"
   },
   "outputs": [],
   "source": [
    "import pandas as pd\n",
    "\n",
    "# Load JSON data directly into a DataFrame\n",
    "df = pd.read_json('./data/combined_training_esen.json')\n",
    "len(df)\n",
    "\n",
    "# Display the first few rows of the DataFrame to verify\n",
    "print(df.head())\n"
   ]
  },
  {
   "cell_type": "markdown",
   "id": "292d3569",
   "metadata": {
    "id": "sgOkN-U_Lqxh"
   },
   "source": [
    "# Fine-tuning seperately"
   ]
  },
  {
   "cell_type": "markdown",
   "id": "3179aef1",
   "metadata": {
    "id": "ALPipEyUNpAT"
   },
   "source": [
    "## clean train and test dataset for training"
   ]
  },
  {
   "cell_type": "code",
   "execution_count": null,
   "id": "35578a37",
   "metadata": {
    "id": "IqeSYkB0vzv4"
   },
   "outputs": [],
   "source": [
    "# len(X_english_test)"
   ]
  },
  {
   "cell_type": "code",
   "execution_count": null,
   "id": "eb2c7198",
   "metadata": {
    "id": "091g-FYNZ4HB"
   },
   "outputs": [],
   "source": [
    "X = df['text'].values\n",
    "y = df['label'].values.astype(int)"
   ]
  },
  {
   "cell_type": "code",
   "execution_count": null,
   "id": "19037773",
   "metadata": {
    "id": "m4A4TBpbpzKN"
   },
   "outputs": [],
   "source": [
    "from sklearn.model_selection import train_test_split\n",
    "\n",
    "X_train, X_test, y_train, y_test = train_test_split(X, y, test_size=0.2, random_state=42)"
   ]
  },
  {
   "cell_type": "code",
   "execution_count": null,
   "id": "67ea8347",
   "metadata": {
    "colab": {
     "base_uri": "https://localhost:8080/"
    },
    "executionInfo": {
     "elapsed": 8,
     "status": "ok",
     "timestamp": 1719863112005,
     "user": {
      "displayName": "Jing Ma",
      "userId": "06301856347973252019"
     },
     "user_tz": -120
    },
    "id": "VL2lP3BBdE1X",
    "outputId": "7d352e9a-ef2e-4d46-d655-fa8350c2bf1d"
   },
   "outputs": [],
   "source": [
    "len(X)"
   ]
  },
  {
   "cell_type": "code",
   "execution_count": null,
   "id": "6af0064b",
   "metadata": {
    "id": "Pti72-MmgYO6"
   },
   "outputs": [],
   "source": [
    "from transformers import AutoModelForSequenceClassification, Trainer, TrainingArguments, EarlyStoppingCallback\n",
    "import numpy as np\n",
    "from datasets import load_dataset, load_metric\n",
    "import transformers\n",
    "from transformers import AutoTokenizer\n",
    "import optuna"
   ]
  },
  {
   "cell_type": "code",
   "execution_count": null,
   "id": "b1b9ce16",
   "metadata": {
    "id": "vV9n5dkelpu1"
   },
   "outputs": [],
   "source": [
    "num_labels = len(set(y))"
   ]
  },
  {
   "cell_type": "code",
   "execution_count": null,
   "id": "b5f7db70",
   "metadata": {
    "colab": {
     "base_uri": "https://localhost:8080/"
    },
    "executionInfo": {
     "elapsed": 31,
     "status": "ok",
     "timestamp": 1719863120431,
     "user": {
      "displayName": "Jing Ma",
      "userId": "06301856347973252019"
     },
     "user_tz": -120
    },
    "id": "6afEPZhkmFxO",
    "outputId": "4effbbd2-0586-4c28-e9b3-ae8cdc011c61"
   },
   "outputs": [],
   "source": [
    "num_labels"
   ]
  },
  {
   "cell_type": "code",
   "execution_count": null,
   "id": "31858248",
   "metadata": {
    "id": "7K25Dh25g-RY"
   },
   "outputs": [],
   "source": [
    "MODEL = \"dccuchile/bert-base-spanish-wwm-cased\"\n",
    "MAX_TRAINING_EXAMPLES = -1"
   ]
  },
  {
   "cell_type": "code",
   "execution_count": null,
   "id": "533c14ae",
   "metadata": {
    "colab": {
     "base_uri": "https://localhost:8080/",
     "height": 340,
     "referenced_widgets": [
      "8e969dfb1ae44b23b30d83df91ba7d38",
      "1325e54f6ad84b39a92821989b922270",
      "fabeecc184dc4d039f73355b97613c98",
      "f8eb6f8f34464be0ae5bff63e053b404",
      "6721a686eef4442495162e8c1f4e2629",
      "f0f1ae9bc711453682edc7e4ac0bba27",
      "9cf77fbd88cb4c88866fc9c81c02697e",
      "a5922bd53b8a45e782958a7bfb0552a3",
      "e9ee1922c35b4a9c91da8197950eff7b",
      "ceddf5bc701f477093bd29099c36a814",
      "127c0acaf44841788bff6cd4b4044932",
      "1b3c228926624ecdb71370cc70172887",
      "83eec3211a7f441e923bb04b7d94f3ef",
      "03e1d58c12b348e68d389abadfa127ba",
      "3bd6506ca3db42ca847e98e13cf3bb7e",
      "713fc5b6450443c09788f079f325eed3",
      "832087469ab441818f9e88cb76bbb0d1",
      "f6aa2ef6042646a5bf9e9afe47215926",
      "0b7ec7a1f8c64328b526dcf4cb202aeb",
      "22256be213c64bb79d57e042b4982027",
      "43d24f0a602d43e7bfb32a8093b9e6e5",
      "165da1f79fb84e81a258eeae4fc862fb",
      "f0cf8c3fb16947f392fb37cac4b917e3",
      "cac8c29131fa413d9b5d3175f4485af9",
      "15011c5b5c0c48559a8de39d6aac6b0a",
      "8a3027a6c3234008bd8763f5a09a8fbc",
      "6ba4b6a5019742a2917905c0466d5046",
      "a957b84615d44163890f899ce0ccefb3",
      "d0d4dd63da8a46ee8c7bdedd82726e84",
      "d1148b0ee5184d1c92b9f1163f734552",
      "717fc3b684924246b3ef1f484efaaa5e",
      "152c9448fae34d16b591098d8ba53eaf",
      "3a1e2e6655f647daaf99c23a8028b703",
      "eefc6b8027dc4032b0403144ab8ca814",
      "f2b4f936ccd64787b9b7c698bdb0c112",
      "334ea8c45c9d4a65b39c7b29b458ada8",
      "cd5b651881df44b89dfb5a8fcda6c7fa",
      "abd83f39635f44839ff5596a840cc4d6",
      "fb4ae8b20a244061bef2e4af4a6a01ed",
      "90396bc886554957beeab2dde8803ef4",
      "7f63bb3e409d4ad485acabd78a21b14b",
      "94ac14b643c14bb99dd916c862c79324",
      "0444080cd4414130b05ad2e3e1408f8c",
      "6c70f0a69f2346d582e9bb15d88babe0",
      "3c9c9a0dcd7b4bcb97aeedc45c5595aa",
      "88d4066ef0514366b3e425736a857d28",
      "b8434ea2185743da982ecce64b46a36e",
      "0a60ef4b7d7c4e67bdc5fd895605146d",
      "9ac33681f9ec437ea4dec76927af5436",
      "ef57414c1dbb49049b9e5a5118e002fb",
      "1e42e6e9b1fb465dbd88b7941df23a8e",
      "fc2d5293ff1c47b18aae9be8dc385fb3",
      "bf88b663b1524a6da183d14c98e7462b",
      "741aac4dd87c48eb97eca62dd2029479",
      "4b308865512a48e4b43db3cfe7c38ea8"
     ]
    },
    "executionInfo": {
     "elapsed": 4910,
     "status": "ok",
     "timestamp": 1719863125318,
     "user": {
      "displayName": "Jing Ma",
      "userId": "06301856347973252019"
     },
     "user_tz": -120
    },
    "id": "sT6wCY_EhAGG",
    "outputId": "c9bf3f97-4492-4e4c-8341-b4bda67ba2fa"
   },
   "outputs": [],
   "source": [
    "tokenizer = AutoTokenizer.from_pretrained(MODEL, use_fast=True)"
   ]
  },
  {
   "cell_type": "code",
   "execution_count": null,
   "id": "2c48f5b4",
   "metadata": {
    "id": "0sZGq-oFg6Lm"
   },
   "outputs": [],
   "source": [
    "train_encodings = tokenizer(X_train.tolist(), truncation=True, padding=True)\n",
    "val_encodings = tokenizer(X_test.tolist(), truncation=True, padding=True)"
   ]
  },
  {
   "cell_type": "code",
   "execution_count": null,
   "id": "492385a3",
   "metadata": {
    "id": "NfWYgntUg5qS"
   },
   "outputs": [],
   "source": [
    "import torch\n",
    "from torch.utils.data import Dataset\n",
    "\n",
    "class MyDataset(Dataset):\n",
    "    def __init__(self, encodings, labels):\n",
    "        self.encodings = encodings\n",
    "        self.labels = labels\n",
    "\n",
    "    def __getitem__(self, idx):\n",
    "\n",
    "        item = {key: torch.tensor(val[idx]) for key, val in self.encodings.items()}\n",
    "        item['labels'] = torch.tensor(self.labels[idx], dtype=torch.long)\n",
    "        return item\n",
    "\n",
    "    def __len__(self):\n",
    "        return len(self.labels)\n"
   ]
  },
  {
   "cell_type": "code",
   "execution_count": null,
   "id": "5bf7f0ce",
   "metadata": {
    "id": "_aoA3sKFlLWZ"
   },
   "outputs": [],
   "source": [
    "train_dataset = MyDataset(train_encodings, y_train)\n",
    "val_dataset = MyDataset(val_encodings, y_test)"
   ]
  },
  {
   "cell_type": "code",
   "execution_count": null,
   "id": "8192f8a6",
   "metadata": {
    "id": "D4IZOpFcgqoE"
   },
   "outputs": [],
   "source": [
    "from sklearn.metrics import accuracy_score, f1_score, precision_score, recall_score, confusion_matrix\n",
    "\n",
    "def compute_metrics(eval_pred):\n",
    "    logits, labels = eval_pred\n",
    "    predictions = np.argmax(logits, axis=-1)\n",
    "\n",
    "    acc = accuracy_score(labels, predictions)\n",
    "\n",
    "    f1_pos = f1_score(labels, predictions, average='binary', pos_label=1)\n",
    "\n",
    "    precision_pos = precision_score(labels, predictions, pos_label=1)\n",
    "    recall_pos = recall_score(labels, predictions, pos_label=1)\n",
    "\n",
    "    precision_macro = precision_score(labels, predictions, average='macro')\n",
    "    recall_macro = recall_score(labels, predictions, average='macro')\n",
    "    f1_macro = f1_score(labels, predictions, average='macro')\n",
    "\n",
    "    precision_micro = precision_score(labels, predictions, average='micro')\n",
    "    recall_micro = recall_score(labels, predictions, average='micro')\n",
    "    f1_micro = f1_score(labels, predictions, average='micro')\n",
    "\n",
    "    conf_matrix = confusion_matrix(labels, predictions)\n",
    "\n",
    "    return {\n",
    "        \"accuracy\": acc,\n",
    "        \"f1_score_positive\": f1_pos,\n",
    "        \"precision_positive\": precision_pos,\n",
    "        \"recall_positive\": recall_pos,\n",
    "        \"precision_macro\": precision_macro,\n",
    "        \"recall_macro\": recall_macro,\n",
    "        \"f1_macro\": f1_macro,\n",
    "        \"precision_micro\": precision_micro,\n",
    "        \"recall_micro\": recall_micro,\n",
    "        \"f1_micro\": f1_micro,\n",
    "        \"confusion_matrix\": conf_matrix.tolist()\n",
    "    }\n",
    "\n",
    "\n",
    "\n",
    "def objective(trial):\n",
    "\n",
    "    def model_init():\n",
    "        model = AutoModelForSequenceClassification.from_pretrained(MODEL, num_labels=num_labels)\n",
    "        model.classifier.dropout = torch.nn.Dropout(trial.suggest_float('dropout_rate', 0, 0.5))  # Adjust dropout\n",
    "        return model\n",
    "\n",
    "    learning_rate = trial.suggest_float('learning_rate', 1e-5, 5e-5, log=True)\n",
    "    num_train_epochs = trial.suggest_int('num_train_epochs', 3, 5)\n",
    "    per_device_train_batch_size = trial.suggest_categorical('per_device_train_batch_size', [8, 16])\n",
    "    warmup_steps = trial.suggest_int('warmup_steps', 0, 500)\n",
    "    weight_decay = trial.suggest_float('weight_decay', 0.0, 0.3)\n",
    "\n",
    "    args = TrainingArguments(\n",
    "        output_dir='./results',\n",
    "        learning_rate=learning_rate,\n",
    "        num_train_epochs=num_train_epochs,\n",
    "        per_device_train_batch_size=per_device_train_batch_size,\n",
    "        per_device_eval_batch_size=per_device_train_batch_size,\n",
    "        warmup_steps=warmup_steps,\n",
    "        weight_decay=weight_decay,\n",
    "        evaluation_strategy=\"epoch\",\n",
    "        save_strategy=\"epoch\",\n",
    "        load_best_model_at_end=True,\n",
    "        metric_for_best_model='accuracy',\n",
    "        greater_is_better=True,\n",
    "        logging_dir='./logs',\n",
    "        logging_steps=10,\n",
    "\n",
    "    )\n",
    "\n",
    "    trainer = Trainer(\n",
    "        model_init=model_init,\n",
    "        args=args,\n",
    "        train_dataset=train_dataset,\n",
    "        eval_dataset=val_dataset,\n",
    "        tokenizer=tokenizer,\n",
    "        compute_metrics=compute_metrics,\n",
    "        callbacks = [EarlyStoppingCallback(early_stopping_patience=3)]\n",
    "    )\n",
    "\n",
    "    # Train model\n",
    "    trainer.train()\n",
    "    # Evaluate model\n",
    "    eval_results = trainer.evaluate()\n",
    "    print(f\"Accuracy: {eval_results['eval_accuracy']}\")\n",
    "    print(f\"F1 Score (Positive): {eval_results['eval_f1_score_positive']}\")\n",
    "    print(f\"Macro F1 Score: {eval_results['eval_f1_macro']}\")\n",
    "    print(f\"Micro F1 Score: {eval_results['eval_f1_micro']}\")\n",
    "\n",
    "    return eval_results['eval_accuracy']\n"
   ]
  },
  {
   "cell_type": "code",
   "execution_count": null,
   "id": "b3f59bd1",
   "metadata": {
    "colab": {
     "base_uri": "https://localhost:8080/",
     "height": 1000,
     "referenced_widgets": [
      "21aa69bab0de4b1888b6963ec46fa296",
      "bdcb7d76ec514392a3f9583e46f9a108",
      "84727a1c76b84b0c8f0ac408ebe57fe6",
      "3a1c71b4998e4162bfe635bafbf46e0f",
      "6dcff15b2dce48b5876a995e66d7a46a",
      "5829b73fee2f46c3a9565a0ea164800a",
      "673fcbd3ac05419fa1e70523b0fb13a0",
      "780a26b64cec42c09768ba85cc48a149",
      "ef96e0eb6af546b598a39d4f09bfae31",
      "37f6579500b44c4aae47b650c13dbd9b",
      "1d7602b13d52469184a58069303d11b8"
     ]
    },
    "executionInfo": {
     "elapsed": 8547059,
     "status": "ok",
     "timestamp": 1719878217598,
     "user": {
      "displayName": "Jing Ma",
      "userId": "06301856347973252019"
     },
     "user_tz": -120
    },
    "id": "B5jWwrLSmhdK",
    "outputId": "eda742b1-971f-43fd-850a-d167c8fd4539"
   },
   "outputs": [],
   "source": [
    "study = optuna.create_study(direction='maximize')\n",
    "study.optimize(objective, n_trials=15)"
   ]
  },
  {
   "cell_type": "code",
   "execution_count": null,
   "id": "61768d41",
   "metadata": {
    "colab": {
     "base_uri": "https://localhost:8080/"
    },
    "executionInfo": {
     "elapsed": 9,
     "status": "ok",
     "timestamp": 1719878217598,
     "user": {
      "displayName": "Jing Ma",
      "userId": "06301856347973252019"
     },
     "user_tz": -120
    },
    "id": "nWcQUvNrmh--",
    "outputId": "16fbd8b8-e94d-4a34-fedc-06f6a38b385c"
   },
   "outputs": [],
   "source": [
    "study.best_trial"
   ]
  },
  {
   "cell_type": "code",
   "execution_count": null,
   "id": "914f0d0a",
   "metadata": {
    "colab": {
     "base_uri": "https://localhost:8080/"
    },
    "executionInfo": {
     "elapsed": 7,
     "status": "ok",
     "timestamp": 1719878217598,
     "user": {
      "displayName": "Jing Ma",
      "userId": "06301856347973252019"
     },
     "user_tz": -120
    },
    "id": "JIynA-1HmlgY",
    "outputId": "7c9a8f75-f6b9-43f3-aa78-9ad5a3d1cbc0"
   },
   "outputs": [],
   "source": [
    "study.best_params"
   ]
  },
  {
   "cell_type": "code",
   "execution_count": null,
   "id": "02e58a43",
   "metadata": {
    "colab": {
     "base_uri": "https://localhost:8080/"
    },
    "executionInfo": {
     "elapsed": 6,
     "status": "ok",
     "timestamp": 1719878217599,
     "user": {
      "displayName": "Jing Ma",
      "userId": "06301856347973252019"
     },
     "user_tz": -120
    },
    "id": "yIdkLNzanZKB",
    "outputId": "1884a545-2136-4136-87a8-7bca461df22e"
   },
   "outputs": [],
   "source": [
    "args = TrainingArguments(\n",
    "        output_dir='./results',\n",
    "        learning_rate=study.best_params[\"learning_rate\"],\n",
    "        num_train_epochs=study.best_params[\"num_train_epochs\"],\n",
    "        per_device_train_batch_size=study.best_params[\"per_device_train_batch_size\"],\n",
    "        per_device_eval_batch_size=study.best_params[\"per_device_train_batch_size\"],\n",
    "        warmup_steps=study.best_params[\"warmup_steps\"],\n",
    "        weight_decay=study.best_params[\"weight_decay\"],\n",
    "        evaluation_strategy=\"epoch\",\n",
    "        save_strategy=\"epoch\",\n",
    "        metric_for_best_model='accuracy',\n",
    "        logging_dir='./logs',\n",
    "        logging_steps=10,\n",
    "\n",
    ")"
   ]
  },
  {
   "cell_type": "code",
   "execution_count": null,
   "id": "593485e5",
   "metadata": {
    "colab": {
     "base_uri": "https://localhost:8080/",
     "height": 504
    },
    "executionInfo": {
     "elapsed": 971883,
     "status": "ok",
     "timestamp": 1719879189477,
     "user": {
      "displayName": "Jing Ma",
      "userId": "06301856347973252019"
     },
     "user_tz": -120
    },
    "id": "Ll_RKrltoErW",
    "outputId": "bf61f726-cf68-4345-c285-50af7ab58667"
   },
   "outputs": [],
   "source": [
    "def model_init(trail=None):\n",
    "        model = AutoModelForSequenceClassification.from_pretrained(MODEL, num_labels=num_labels)\n",
    "        model.classifier.dropout = torch.nn.Dropout(study.best_params[\"dropout_rate\"])\n",
    "        return model\n",
    "\n",
    "trainer = Trainer(\n",
    "    model_init=model_init,\n",
    "    args=args,\n",
    "    train_dataset=train_dataset,\n",
    "    eval_dataset=val_dataset,\n",
    "    tokenizer=tokenizer,\n",
    "    compute_metrics=compute_metrics,\n",
    "    #callbacks=[EarlyStoppingCallback(early_stopping_patience=3)]\n",
    ")\n",
    "\n",
    "trainer.train()"
   ]
  },
  {
   "cell_type": "code",
   "execution_count": null,
   "id": "6df5364f",
   "metadata": {
    "colab": {
     "base_uri": "https://localhost:8080/",
     "height": 93
    },
    "executionInfo": {
     "elapsed": 13310,
     "status": "ok",
     "timestamp": 1719879418739,
     "user": {
      "displayName": "Jing Ma",
      "userId": "06301856347973252019"
     },
     "user_tz": -120
    },
    "id": "xm6ORwEszNLj",
    "outputId": "6f953d0f-aedb-489c-c876-f579c7da628b"
   },
   "outputs": [],
   "source": [
    "trainer.evaluate()['eval_accuracy']"
   ]
  },
  {
   "cell_type": "code",
   "execution_count": null,
   "id": "c79864bc",
   "metadata": {
    "colab": {
     "base_uri": "https://localhost:8080/",
     "height": 361
    },
    "executionInfo": {
     "elapsed": 12991,
     "status": "ok",
     "timestamp": 1719879453461,
     "user": {
      "displayName": "Jing Ma",
      "userId": "06301856347973252019"
     },
     "user_tz": -120
    },
    "id": "fXthdY6UzR0s",
    "outputId": "ff1490f5-7dc8-4943-9226-d2e47d033f41"
   },
   "outputs": [],
   "source": [
    "trainer.evaluate()"
   ]
  },
  {
   "cell_type": "code",
   "execution_count": null,
   "id": "a94d8a09",
   "metadata": {
    "colab": {
     "base_uri": "https://localhost:8080/"
    },
    "executionInfo": {
     "elapsed": 2646,
     "status": "ok",
     "timestamp": 1719879898911,
     "user": {
      "displayName": "Jing Ma",
      "userId": "06301856347973252019"
     },
     "user_tz": -120
    },
    "id": "JkrakPOHpoOr",
    "outputId": "dbb2a065-3546-459e-d9e4-ba2455d5cd0e"
   },
   "outputs": [],
   "source": [
    "# Download test data\n",
    "# Please ensure the test_data.json file is in the data directory"
   ]
  },
  {
   "cell_type": "code",
   "execution_count": null,
   "id": "eb8a6582",
   "metadata": {
    "colab": {
     "base_uri": "https://localhost:8080/"
    },
    "executionInfo": {
     "elapsed": 3,
     "status": "ok",
     "timestamp": 1719879901300,
     "user": {
      "displayName": "Jing Ma",
      "userId": "06301856347973252019"
     },
     "user_tz": -120
    },
    "id": "WQ3i1fERpt2T",
    "outputId": "f68e8e32-23b5-4287-8847-491fc82d7636"
   },
   "outputs": [],
   "source": [
    "import pandas as pd\n",
    "import json\n",
    "\n",
    "file_path = './data/test_data.json'\n",
    "with open(file_path, 'r') as file:\n",
    "    data = [json.loads(line) for line in file]\n",
    "\n",
    "df_test = pd.DataFrame(data)\n",
    "\n",
    "print(len(df_test))\n",
    "print(df_test.head())\n"
   ]
  },
  {
   "cell_type": "code",
   "execution_count": null,
   "id": "8e7d9405",
   "metadata": {
    "id": "_-Rddwtz0t1h"
   },
   "outputs": [],
   "source": [
    "X_test_final = df_test['combined_text'].values"
   ]
  },
  {
   "cell_type": "code",
   "execution_count": null,
   "id": "9a90ba4f",
   "metadata": {
    "colab": {
     "base_uri": "https://localhost:8080/"
    },
    "executionInfo": {
     "elapsed": 3,
     "status": "ok",
     "timestamp": 1719879906382,
     "user": {
      "displayName": "Jing Ma",
      "userId": "06301856347973252019"
     },
     "user_tz": -120
    },
    "id": "-CXPTOXbz3H5",
    "outputId": "c2d30da9-50b3-4068-855c-29bc56ddf6d1"
   },
   "outputs": [],
   "source": [
    "import pandas as pd\n",
    "import json\n",
    "\n",
    "file_path = './data/test_data.json'\n",
    "with open(file_path, 'r') as file:\n",
    "    data = [json.loads(line) for line in file]\n",
    "\n",
    "texts = [entry['combined_text'] for entry in data]\n",
    "labels = [entry['gold'] for entry in data]\n",
    "\n",
    "df_test = pd.DataFrame({\n",
    "    'combined_text': texts,\n",
    "    'gold': labels,\n",
    "    'predictions': [0] * len(texts)\n",
    "})\n",
    "\n",
    "print(len(df_test))\n",
    "print(df_test.head())\n"
   ]
  },
  {
   "cell_type": "code",
   "execution_count": null,
   "id": "80180ff1",
   "metadata": {
    "id": "EpUqbjJy0hZY"
   },
   "outputs": [],
   "source": [
    "import json\n",
    "from datasets import Dataset\n",
    "\n",
    "file_path = './data/test_data.json'\n",
    "with open(file_path, 'r') as file:\n",
    "    data = [json.loads(line) for line in file]\n",
    "\n",
    "texts = [entry['combined_text'] for entry in data]\n",
    "\n",
    "dummy_labels = [0] * len(texts)\n",
    "test_dict = dict({'text': texts, 'predictions': dummy_labels})\n",
    "test_encodings = tokenizer(X_test_final.tolist(), truncation=True, padding=True)\n",
    "test_dataset = MyDataset(test_encodings, test_dict['predictions'])"
   ]
  },
  {
   "cell_type": "code",
   "execution_count": null,
   "id": "4f8a34c0",
   "metadata": {
    "colab": {
     "base_uri": "https://localhost:8080/",
     "height": 108
    },
    "executionInfo": {
     "elapsed": 10356,
     "status": "ok",
     "timestamp": 1719879922030,
     "user": {
      "displayName": "Jing Ma",
      "userId": "06301856347973252019"
     },
     "user_tz": -120
    },
    "id": "_Gv0WbcL06EX",
    "outputId": "8613d2b6-3b5e-407c-f192-d823dae72a01"
   },
   "outputs": [],
   "source": [
    "test_predictions = trainer.predict(test_dataset)"
   ]
  },
  {
   "cell_type": "code",
   "execution_count": null,
   "id": "0e998b85",
   "metadata": {
    "colab": {
     "base_uri": "https://localhost:8080/",
     "height": 287
    },
    "executionInfo": {
     "elapsed": 10369,
     "status": "ok",
     "timestamp": 1719879934388,
     "user": {
      "displayName": "Jing Ma",
      "userId": "06301856347973252019"
     },
     "user_tz": -120
    },
    "id": "-o96CLuIopXl",
    "outputId": "c5a9582c-8105-4581-c553-c5ab1e60d826"
   },
   "outputs": [],
   "source": [
    "test_preds_raw, test_labels , _ = trainer.predict(test_dataset)\n",
    "test_preds = np.argmax(test_preds_raw, axis=-1)\n",
    "print(test_preds)"
   ]
  },
  {
   "cell_type": "code",
   "execution_count": null,
   "id": "07a27124",
   "metadata": {
    "colab": {
     "base_uri": "https://localhost:8080/"
    },
    "executionInfo": {
     "elapsed": 830,
     "status": "ok",
     "timestamp": 1719880000411,
     "user": {
      "displayName": "Jing Ma",
      "userId": "06301856347973252019"
     },
     "user_tz": -120
    },
    "id": "32RsZQhK1C1K",
    "outputId": "f537e3af-0bcd-4359-9606-fa66257a7ecd"
   },
   "outputs": [],
   "source": [
    "import numpy as np\n",
    "import pandas as pd\n",
    "\n",
    "\n",
    "df_predictions = pd.DataFrame({\n",
    "    'text': texts,\n",
    "    'predicted_label': test_preds,\n",
    "    'gold_label': labels\n",
    "})\n",
    "\n",
    "\n",
    "df_predictions.to_csv('./results/google-bert-based-uncased-predictions-ablation.csv', index=False)\n",
    "\n",
    "print(\"预测结果已经保存到 'predictions.csv' 文件.\")\n"
   ]
  },
  {
   "cell_type": "code",
   "execution_count": null,
   "id": "fa8caa93",
   "metadata": {
    "id": "SXg426DareZe"
   },
   "outputs": [],
   "source": [
    "with open('./data/spanish_memes_test.json', 'r') as file:\n",
    "    data_ids = json.load(file)\n",
    "\n",
    "ids = [entry['id_EXIST'] for entry in data_ids.values()]\n",
    "values = [\"NO\" if pred == 0 else \"YES\" if pred == 1 else None for pred in test_preds]\n",
    "\n",
    "df_predictions = pd.DataFrame({\n",
    "    'id': ids,\n",
    "    'value': values,\n",
    "    'test_case': 'EXIST2024'\n",
    "})\n",
    "\n",
    "df_predictions.to_json('./results/bert-based-uncased-es_test_submission.json', orient='records', lines=True, indent=2)\n"
   ]
  },
  {
   "cell_type": "code",
   "execution_count": null,
   "id": "f4c2123e",
   "metadata": {
    "colab": {
     "base_uri": "https://localhost:8080/"
    },
    "executionInfo": {
     "elapsed": 803,
     "status": "ok",
     "timestamp": 1719879942686,
     "user": {
      "displayName": "Jing Ma",
      "userId": "06301856347973252019"
     },
     "user_tz": -120
    },
    "id": "C_vqEH4zrmWb",
    "outputId": "00be4d68-8dd3-4549-be11-4df5023c96ba"
   },
   "outputs": [],
   "source": [
    "len(test_preds)"
   ]
  },
  {
   "cell_type": "code",
   "execution_count": null,
   "id": "55710eb6",
   "metadata": {
    "colab": {
     "base_uri": "https://localhost:8080/"
    },
    "executionInfo": {
     "elapsed": 425,
     "status": "ok",
     "timestamp": 1719879945001,
     "user": {
      "displayName": "Jing Ma",
      "userId": "06301856347973252019"
     },
     "user_tz": -120
    },
    "id": "X7m6oozbroKh",
    "outputId": "ced0ce0b-c4ae-4947-d06e-8eb6317f136c"
   },
   "outputs": [],
   "source": [
    "len(df_predictions)"
   ]
  }
 ],
 "metadata": {
  "accelerator": "GPU",
  "colab": {
   "collapsed_sections": [
    "jSWVnSUby109"
   ],
   "gpuType": "T4",
   "machine_shape": "hm",
   "provenance": [
    {
     "file_id": "1MeTZnPVIU0fzvxhV2818XXjCVRzjaEX7",
     "timestamp": 1719847863862
    }
   ]
  },
  "kernelspec": {
   "display_name": "llava",
   "language": "python",
   "name": "python3"
  },
  "language_info": {
   "codemirror_mode": {
    "name": "ipython",
    "version": 3
   },
   "file_extension": ".py",
   "mimetype": "text/x-python",
   "name": "python",
   "nbconvert_exporter": "python",
   "pygments_lexer": "ipython3",
   "version": "3.10.14"
  }
 },
 "nbformat": 4,
 "nbformat_minor": 5
}
