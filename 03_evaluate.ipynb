{
 "cells": [
  {
   "cell_type": "code",
   "execution_count": null,
   "metadata": {
    "colab": {
     "base_uri": "https://localhost:8080/"
    },
    "executionInfo": {
     "elapsed": 2374,
     "status": "ok",
     "timestamp": 1719912063769,
     "user": {
      "displayName": "Jing Ma",
      "userId": "06301856347973252019"
     },
     "user_tz": -120
    },
    "id": "eIdxv8h1vh3K",
    "outputId": "b5bd011a-185b-4ef5-de6f-99849d41c7d6"
   },
   "outputs": [
    {
     "name": "stdout",
     "output_type": "stream",
     "text": [
      "Downloading...\n",
      "From: https://drive.google.com/uc?id=14HQZnGepX3smDh_MK_t5DNF9sviN4AbT\n",
      "To: /content/google-bert-based-uncased-predictions-ablation.csv\n",
      "\r  0% 0.00/131k [00:00<?, ?B/s]\r100% 131k/131k [00:00<00:00, 62.8MB/s]\n"
     ]
    }
   ],
   "source": [
    "# Load evaluation results\n",
    "# Please ensure the predictions CSV file is available in the results directory"
   ]
  },
  {
   "cell_type": "code",
   "execution_count": null,
   "metadata": {
    "colab": {
     "base_uri": "https://localhost:8080/",
     "height": 936
    },
    "executionInfo": {
     "elapsed": 711,
     "status": "ok",
     "timestamp": 1719913656504,
     "user": {
      "displayName": "Jing Ma",
      "userId": "06301856347973252019"
     },
     "user_tz": -120
    },
    "id": "pKyCXPe8vz05",
    "outputId": "b52a7d6f-6e2a-48da-e198-a348a572c0da"
   },
   "outputs": [
    {
     "data": {
      "image/png": "[encoded data removed]",
      "text/plain": [
       "<Figure size 1000x700 with 2 Axes>"
      ]
     },
     "metadata": {},
     "output_type": "display_data"
    },
    {
     "name": "stdout",
     "output_type": "stream",
     "text": [
      "\n",
      "Accuracy: 0.7259475218658892\n",
      "Precision: 0.7221715216698924\n",
      "Recall: 0.7259475218658892\n",
      "F1 Score (weighted): 0.723141626768663\n",
      "F1 Score (positive class): 0.7844036697247707\n",
      "\n",
      "Classification Report:\n",
      "              precision    recall  f1-score   support\n",
      "\n",
      "           0       0.66      0.60      0.62       131\n",
      "           1       0.76      0.81      0.78       212\n",
      "\n",
      "    accuracy                           0.73       343\n",
      "   macro avg       0.71      0.70      0.70       343\n",
      "weighted avg       0.72      0.73      0.72       343\n",
      "\n"
     ]
    }
   ],
   "source": [
    "import pandas as pd\n",
    "import matplotlib.pyplot as plt\n",
    "import seaborn as sns\n",
    "from sklearn.metrics import confusion_matrix, classification_report, accuracy_score, precision_score, recall_score, f1_score\n",
    "\n",
    "file_path = './results/google-bert-based-uncased-predictions-ablation.csv'\n",
    "df = pd.read_csv(file_path)\n",
    "df.head()\n",
    "\n",
    "actual = df['gold_label']\n",
    "predicted = df['predicted_label']\n",
    "\n",
    "conf_matrix = confusion_matrix(actual, predicted)\n",
    "\n",
    "plt.figure(figsize=(10, 7))\n",
    "sns.heatmap(conf_matrix, annot=True, fmt='d', cmap='Blues', xticklabels=df['gold_label'].unique(), yticklabels=df['gold_label'].unique())\n",
    "plt.xlabel('Predicted')\n",
    "plt.ylabel('Actual')\n",
    "plt.title('Confusion Matrix')\n",
    "plt.show()\n",
    "\n",
    "accuracy = accuracy_score(actual, predicted)\n",
    "precision = precision_score(actual, predicted, average='weighted')\n",
    "recall = recall_score(actual, predicted, average='weighted')\n",
    "f1 = f1_score(actual, predicted, average='weighted')\n",
    "\n",
    "f1_positive = f1_score(actual, predicted, pos_label=1)\n",
    "\n",
    "class_report = classification_report(actual, predicted)\n",
    "\n",
    "print(\"\\nAccuracy:\", accuracy)\n",
    "print(\"Precision:\", precision)\n",
    "print(\"Recall:\", recall)\n",
    "print(\"F1 Score (weighted):\", f1)\n",
    "print(\"F1 Score (positive class):\", f1_positive)\n",
    "print(\"\\nClassification Report:\")\n",
    "print(class_report)"
   ]
  },
  {
   "cell_type": "code",
   "execution_count": null,
   "metadata": {
    "id": "rvsrLHSQwYFX"
   },
   "outputs": [],
   "source": [
    "#\n"
   ]
  }
 ],
 "metadata": {
  "colab": {
   "authorship_tag": "ABX9TyOMCwYDTOYB9l/bNlW9JvbT",
   "provenance": []
  },
  "kernelspec": {
   "display_name": "Python 3",
   "name": "python3"
  },
  "language_info": {
   "name": "python"
  }
 },
 "nbformat": 4,
 "nbformat_minor": 0
}
