{
 "cells": [
  {
   "cell_type": "code",
   "execution_count": null,
   "id": "ca442501",
   "metadata": {
    "colab": {
     "base_uri": "https://localhost:8080/"
    },
    "executionInfo": {
     "elapsed": 2374,
     "status": "ok",
     "timestamp": 1719912063769,
     "user": {
      "displayName": "Jing Ma",
      "userId": "06301856347973252019"
     },
     "user_tz": -120
    },
    "id": "eIdxv8h1vh3K",
    "outputId": "b5bd011a-185b-4ef5-de6f-99849d41c7d6"
   },
   "outputs": [],
   "source": [
    "# Load evaluation results\n",
    "# Please ensure the predictions CSV file is available in the results directory"
   ]
  },
  {
   "cell_type": "code",
   "execution_count": null,
   "id": "4c72d2c0",
   "metadata": {
    "colab": {
     "base_uri": "https://localhost:8080/",
     "height": 936
    },
    "executionInfo": {
     "elapsed": 711,
     "status": "ok",
     "timestamp": 1719913656504,
     "user": {
      "displayName": "Jing Ma",
      "userId": "06301856347973252019"
     },
     "user_tz": -120
    },
    "id": "pKyCXPe8vz05",
    "outputId": "b52a7d6f-6e2a-48da-e198-a348a572c0da"
   },
   "outputs": [],
   "source": [
    "import pandas as pd\n",
    "import matplotlib.pyplot as plt\n",
    "import seaborn as sns\n",
    "from sklearn.metrics import confusion_matrix, classification_report, accuracy_score, precision_score, recall_score, f1_score\n",
    "\n",
    "file_path = './results/google-bert-based-uncased-predictions-ablation.csv'\n",
    "df = pd.read_csv(file_path)\n",
    "df.head()\n",
    "\n",
    "actual = df['gold_label']\n",
    "predicted = df['predicted_label']\n",
    "\n",
    "conf_matrix = confusion_matrix(actual, predicted)\n",
    "\n",
    "plt.figure(figsize=(10, 7))\n",
    "sns.heatmap(conf_matrix, annot=True, fmt='d', cmap='Blues', xticklabels=df['gold_label'].unique(), yticklabels=df['gold_label'].unique())\n",
    "plt.xlabel('Predicted')\n",
    "plt.ylabel('Actual')\n",
    "plt.title('Confusion Matrix')\n",
    "plt.show()\n",
    "\n",
    "accuracy = accuracy_score(actual, predicted)\n",
    "precision = precision_score(actual, predicted, average='weighted')\n",
    "recall = recall_score(actual, predicted, average='weighted')\n",
    "f1 = f1_score(actual, predicted, average='weighted')\n",
    "\n",
    "f1_positive = f1_score(actual, predicted, pos_label=1)\n",
    "\n",
    "class_report = classification_report(actual, predicted)\n",
    "\n",
    "print(\"\\nAccuracy:\", accuracy)\n",
    "print(\"Precision:\", precision)\n",
    "print(\"Recall:\", recall)\n",
    "print(\"F1 Score (weighted):\", f1)\n",
    "print(\"F1 Score (positive class):\", f1_positive)\n",
    "print(\"\\nClassification Report:\")\n",
    "print(class_report)"
   ]
  },
  {
   "cell_type": "code",
   "execution_count": null,
   "id": "dd9c2f64",
   "metadata": {
    "id": "rvsrLHSQwYFX"
   },
   "outputs": [],
   "source": [
    "#\n"
   ]
  }
 ],
 "metadata": {
  "colab": {
   "authorship_tag": "ABX9TyOMCwYDTOYB9l/bNlW9JvbT",
   "provenance": []
  },
  "kernelspec": {
   "display_name": "Python 3",
   "name": "python3"
  },
  "language_info": {
   "name": "python"
  }
 },
 "nbformat": 4,
 "nbformat_minor": 5
}
