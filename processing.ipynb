{
 "cells": [
  {
   "cell_type": "markdown",
   "id": "7411334b",
   "metadata": {
    "id": "Q9fwzk8NaVJw"
   },
   "source": [
    "# GPT API to generate meme description"
   ]
  },
  {
   "cell_type": "code",
   "execution_count": null,
   "id": "1336cd11",
   "metadata": {
    "colab": {
     "base_uri": "https://localhost:8080/"
    },
    "executionInfo": {
     "elapsed": 6457,
     "status": "ok",
     "timestamp": 1715090152859,
     "user": {
      "displayName": "Jing Ma",
      "userId": "06301856347973252019"
     },
     "user_tz": -120
    },
    "id": "FSdIx2vgfe2o",
    "outputId": "b2ab8797-d288-4515-f5f5-2289ed5baef4"
   },
   "outputs": [],
   "source": [
    "!pip install openai==0.28"
   ]
  },
  {
   "cell_type": "code",
   "execution_count": null,
   "id": "fe546af5",
   "metadata": {
    "colab": {
     "base_uri": "https://localhost:8080/"
    },
    "executionInfo": {
     "elapsed": 31664,
     "status": "ok",
     "timestamp": 1715090184520,
     "user": {
      "displayName": "Jing Ma",
      "userId": "06301856347973252019"
     },
     "user_tz": -120
    },
    "id": "2VY1FoOhycuv",
    "outputId": "335d63cf-ca50-47ac-ac29-d61ecfb072bc"
   },
   "outputs": [],
   "source": [
    "# Download the EXIST 2024 Memes Dataset\n",
    "# Please manually download the dataset from the official source and place it in the project directory\n",
    "# Expected file: EXIST_2024_Memes_Dataset.zip"
   ]
  },
  {
   "cell_type": "code",
   "execution_count": null,
   "id": "dd036b5f",
   "metadata": {
    "colab": {
     "base_uri": "https://localhost:8080/"
    },
    "executionInfo": {
     "elapsed": 5932,
     "status": "ok",
     "timestamp": 1715090190448,
     "user": {
      "displayName": "Jing Ma",
      "userId": "06301856347973252019"
     },
     "user_tz": -120
    },
    "id": "KZJbtJpyyhDz",
    "outputId": "cf3651d9-fd8b-4f75-9417-4119f9304227"
   },
   "outputs": [],
   "source": [
    "!unzip EXIST_2024_Memes_Dataset.zip -d ./data/"
   ]
  },
  {
   "cell_type": "code",
   "execution_count": null,
   "id": "6cf52a40",
   "metadata": {
    "id": "wEWYryCH12QH"
   },
   "outputs": [],
   "source": [
    "# split the Spanish memes and English memes\n",
    "import os\n",
    "import shutil\n",
    "\n",
    "# create two directories to store the memes\n",
    "os.makedirs('./data/Spanish_memes', exist_ok=True)\n",
    "os.makedirs('./data/English_memes', exist_ok=True)\n",
    "\n",
    "memes_path = './data/EXIST 2024 Memes Dataset/training/memes'\n",
    "\n",
    "for filename in os.listdir(memes_path):\n",
    "\n",
    "    if filename.startswith('1'):\n",
    "\n",
    "        shutil.copy(os.path.join(memes_path, filename), os.path.join('./data/Spanish_memes', filename))\n",
    "    elif filename.startswith('2'):\n",
    "\n",
    "        shutil.copy(os.path.join(memes_path, filename), os.path.join('./data/English_memes', filename))"
   ]
  },
  {
   "cell_type": "code",
   "execution_count": null,
   "id": "83dfb48d",
   "metadata": {
    "id": "dGVJ2zwpWN_f"
   },
   "outputs": [],
   "source": [
    "# create two directories to store the memes\n",
    "os.makedirs('./data/Spanish_memes_test', exist_ok=True)\n",
    "\n",
    "memes_path = './data/EXIST 2024 Memes Dataset/test/memes'\n",
    "\n",
    "for filename in os.listdir(memes_path):\n",
    "\n",
    "    if filename.startswith('3'):\n",
    "\n",
    "        shutil.copy(os.path.join(memes_path, filename), os.path.join('./data/Spanish_memes_test', filename))"
   ]
  },
  {
   "cell_type": "code",
   "execution_count": null,
   "id": "e4715726",
   "metadata": {
    "id": "edQIP-AUsRiX"
   },
   "outputs": [],
   "source": [
    "import openai"
   ]
  },
  {
   "cell_type": "code",
   "execution_count": null,
   "id": "c9ad6b51",
   "metadata": {
    "id": "N0jxJeSsqVJA"
   },
   "outputs": [],
   "source": [
    "# Replace with your actual OpenAI API key\n",
    "API_key = 'YOUR_OPENAI_API_KEY_HERE'"
   ]
  },
  {
   "cell_type": "code",
   "execution_count": null,
   "id": "26fa2814",
   "metadata": {
    "id": "fgEuAvBkqR1H"
   },
   "outputs": [],
   "source": [
    "openai.api_key = API_key"
   ]
  },
  {
   "cell_type": "code",
   "execution_count": null,
   "id": "5019f41a",
   "metadata": {
    "id": "6pNa8qB4B5Ka"
   },
   "outputs": [],
   "source": [
    "import base64\n",
    "import requests\n",
    "\n",
    "# encode the image from the local file\n",
    "def encode_image(image_path):\n",
    "    with open(image_path, \"rb\") as image_file:\n",
    "        return base64.b64encode(image_file.read()).decode('utf-8')\n",
    "\n",
    "def analyze_image_for_sexist_content(image_path, API_key):\n",
    "    base64_image = encode_image(image_path)\n",
    "    headers = {\n",
    "        \"Content-Type\": \"application/json\",\n",
    "        \"Authorization\": f\"Bearer {API_key}\"\n",
    "    }\n",
    "    if 'English' in image_path:\n",
    "      payload = {\n",
    "          \"model\": \"gpt-4-turbo\",\n",
    "          \"temperature\": 0.75,\n",
    "          \"seed\": 1234,\n",
    "          \"messages\": [\n",
    "                  {\"role\": \"system\",\n",
    "                  \"content\": \"You are an expert in identifying the presence of sexism within memes. Your task is to assess whether the content of a meme portrays or criticizes sexism through marginalization, prejudice against women based on gender stereotypes, beliefs in male superiority, or misogynistic views.\"},\n",
    "\n",
    "                  {\"role\": \"user\",\n",
    "                  \"content\": [\n",
    "                      {\n",
    "                          \"type\": \"text\",\n",
    "                          \"text\": \"Briefly describe and analyze the content of the meme in one sentence, then label it as 'YES' if the meme embodies or criticizes sexism, or 'NO' if it does not. Please use the following format: 1. Description: [Your description]. 2. Label: [YES/NO].\"\n",
    "                      },\n",
    "                      {\n",
    "                          \"type\": \"image_url\",\n",
    "                          \"image_url\":\n",
    "                              \"url\": f\"data:image/jpeg;base64,{base64_image}\",\n",
    "                              \"detail\": \"low\"\n",
    "                          }\n",
    "                      }\n",
    "                  ]\n",
    "              }\n",
    "          ],\n",
    "      }\n",
    "      response = requests.post(\"https://api.openai.com/v1/chat/completions\", headers=headers, json=payload)\n",
    "    elif 'Spanish' in image_path:\n",
    "      payload = {\n",
    "        \"model\": \"gpt-4-turbo\",\n",
    "        \"temperature\": 0.75,\n",
    "        \"seed\": 4321,\n",
    "        \"messages\": [\n",
    "                {\"role\": \"system\",\n",
    "                \"content\": \"Eres un experto en identificar la presencia de sexismo en los memes. Tu tarea es evaluar si el contenido de un meme retrata o critica el sexismo a través de la marginación, prejuicios contra las mujeres basados en estereotipos de género, creencias en la superioridad masculina o vistas misóginas.\"},\n",
    "\n",
    "                {\"role\": \"user\",\n",
    "                \"content\": [\n",
    "                    {\n",
    "                        \"type\": \"text\",\n",
    "                        \"text\": \"Describa y analice brevemente el contenido del meme en una frase, luego etiquételo como 'YES' si el meme encarna o critica el sexismo, o 'NO' si no lo hace. Por favor, utilice el siguiente formato: 1. Description: [Tu descripción]. 2. Label: [YES/NO].\"\n",
    "                    },\n",
    "                    {\n",
    "                        \"type\": \"image_url\",\n",
    "                        \"image_url\": {\n",
    "                            \"url\": f\"data:image/jpeg;base64,{base64_image}\",\n",
    "                            \"detail\": \"low\"  # use low resolution to process the image\n",
    "                        }\n",
    "                    }\n",
    "                ]\n",
    "            }\n",
    "        ],\n",
    "    }\n",
    "    response = requests.post(\"https://api.openai.com/v1/chat/completions\", headers=headers, json=payload)\n",
    "\n",
    "    return response.json()['choices'][0]['message']['content']\n"
   ]
  },
  {
   "cell_type": "code",
   "execution_count": null,
   "id": "dd53d349",
   "metadata": {
    "colab": {
     "base_uri": "https://localhost:8080/",
     "height": 71
    },
    "executionInfo": {
     "elapsed": 9247,
     "status": "ok",
     "timestamp": 1715095768339,
     "user": {
      "displayName": "Jing Ma",
      "userId": "06301856347973252019"
     },
     "user_tz": -120
    },
    "id": "QgUDVTd8zDOU",
    "outputId": "d5341def-2587-4728-d334-511552f1031f"
   },
   "outputs": [],
   "source": [
    "example_path = './data/Spanish_memes_test/310531.jpeg'\n",
    "example_result = analyze_image_for_sexist_content(example_path, API_key)\n",
    "example_result"
   ]
  },
  {
   "cell_type": "code",
   "execution_count": null,
   "id": "91a386ca",
   "metadata": {
    "colab": {
     "base_uri": "https://localhost:8080/",
     "height": 89
    },
    "executionInfo": {
     "elapsed": 12633,
     "status": "ok",
     "timestamp": 1715095800785,
     "user": {
      "displayName": "Jing Ma",
      "userId": "06301856347973252019"
     },
     "user_tz": -120
    },
    "id": "UMiXhFVtrHfM",
    "outputId": "36a96b64-8ab9-4b97-f09e-81f723661620"
   },
   "outputs": [],
   "source": [
    "example_path = './data/Spanish_memes_test/310532.jpeg'\n",
    "example_result = analyze_image_for_sexist_content(example_path, API_key)\n",
    "example_result"
   ]
  },
  {
   "cell_type": "code",
   "execution_count": null,
   "id": "6032a2bd",
   "metadata": {
    "colab": {
     "base_uri": "https://localhost:8080/",
     "height": 53
    },
    "executionInfo": {
     "elapsed": 4838,
     "status": "ok",
     "timestamp": 1715095805616,
     "user": {
      "displayName": "Jing Ma",
      "userId": "06301856347973252019"
     },
     "user_tz": -120
    },
    "id": "pE_FW162rHig",
    "outputId": "0b99b71e-9220-44e1-8e76-6dbb725d5e5d"
   },
   "outputs": [],
   "source": [
    "example_path = './data/Spanish_memes_test/310533.jpeg'\n",
    "example_result = analyze_image_for_sexist_content(example_path, API_key)\n",
    "example_result"
   ]
  },
  {
   "cell_type": "code",
   "execution_count": null,
   "id": "d8b753a2",
   "metadata": {
    "colab": {
     "base_uri": "https://localhost:8080/",
     "height": 71
    },
    "executionInfo": {
     "elapsed": 28990,
     "status": "ok",
     "timestamp": 1715096139725,
     "user": {
      "displayName": "Jing Ma",
      "userId": "06301856347973252019"
     },
     "user_tz": -120
    },
    "id": "OtA83iKVsZ2S",
    "outputId": "1cbb98f0-3533-4560-f2a4-2f0a0e29379a"
   },
   "outputs": [],
   "source": [
    "example_path = './data/Spanish_memes_test/310535.jpeg'\n",
    "example_result = analyze_image_for_sexist_content(example_path, API_key)\n",
    "example_result"
   ]
  },
  {
   "cell_type": "code",
   "execution_count": null,
   "id": "cf0bf7d2",
   "metadata": {
    "colab": {
     "base_uri": "https://localhost:8080/",
     "height": 71
    },
    "executionInfo": {
     "elapsed": 9912,
     "status": "ok",
     "timestamp": 1715095815522,
     "user": {
      "displayName": "Jing Ma",
      "userId": "06301856347973252019"
     },
     "user_tz": -120
    },
    "id": "cBGH0GAKrHm-",
    "outputId": "05bc37b5-8b19-4a44-98c1-c75c6c3e5a06"
   },
   "outputs": [],
   "source": [
    "example_path = './data/Spanish_memes_test/310539.jpeg'\n",
    "example_result = analyze_image_for_sexist_content(example_path, API_key)\n",
    "example_result"
   ]
  },
  {
   "cell_type": "code",
   "execution_count": null,
   "id": "e63c9de8",
   "metadata": {
    "colab": {
     "base_uri": "https://localhost:8080/",
     "height": 125
    },
    "executionInfo": {
     "elapsed": 10091,
     "status": "ok",
     "timestamp": 1715095825608,
     "user": {
      "displayName": "Jing Ma",
      "userId": "06301856347973252019"
     },
     "user_tz": -120
    },
    "id": "aDBZ7OskrHtF",
    "outputId": "77b2fe54-afb9-4087-e342-db3583592585"
   },
   "outputs": [],
   "source": [
    "example_path = './data/Spanish_memes_test/310540.jpeg'\n",
    "example_result = analyze_image_for_sexist_content(example_path, API_key)\n",
    "example_result"
   ]
  },
  {
   "cell_type": "code",
   "execution_count": null,
   "id": "2692e776",
   "metadata": {
    "colab": {
     "base_uri": "https://localhost:8080/"
    },
    "executionInfo": {
     "elapsed": 9,
     "status": "ok",
     "timestamp": 1715095825608,
     "user": {
      "displayName": "Jing Ma",
      "userId": "06301856347973252019"
     },
     "user_tz": -120
    },
    "id": "GZAKoYtO0h7O",
    "outputId": "9d8e5a81-5fe7-41c3-d040-0852201dfa52"
   },
   "outputs": [],
   "source": [
    "parts = example_result.split('\\n')\n",
    "parts"
   ]
  },
  {
   "cell_type": "code",
   "execution_count": null,
   "id": "059acea4",
   "metadata": {
    "colab": {
     "base_uri": "https://localhost:8080/"
    },
    "executionInfo": {
     "elapsed": 811,
     "status": "ok",
     "timestamp": 1714315180233,
     "user": {
      "displayName": "Rong",
      "userId": "15769398465651090791"
     },
     "user_tz": -120
    },
    "id": "2buQ7Ukq0pIs",
    "outputId": "b4bff948-a809-466c-d6b8-230495b2bdee"
   },
   "outputs": [],
   "source": [
    "len(parts)"
   ]
  },
  {
   "cell_type": "code",
   "execution_count": null,
   "id": "796c37cc",
   "metadata": {
    "id": "JlnuNg-IEd4r"
   },
   "outputs": [],
   "source": [
    "import os\n",
    "import pandas as pd\n",
    "\n",
    "def create_df(path):\n",
    "  images = [os.path.join(path, f) for f in os.listdir(path)]\n",
    "  print(f\"Total images: {len(images)}\")\n",
    "\n",
    "  sorted_images = sorted(images, key=lambda x: int(os.path.basename(x).split('.')[0]))\n",
    "\n",
    "  answers = dict()\n",
    "  results = []\n",
    "\n",
    "  for image_path in sorted_images:\n",
    "      try:\n",
    "          response = analyze_image_for_sexist_content(image_path, API_key)\n",
    "          print(os.path.basename(image_path), response)\n",
    "          answers[os.path.basename(image_path)] = response\n",
    "          if response:\n",
    "              segments = response.split('\\n')\n",
    "              if len(segments) >= 2:\n",
    "                  description = segments[0].replace('1. Description: ', '').strip()\n",
    "                  label_info = segments[1].split(': ')\n",
    "                  label = label_info[1].strip('.') if len(label_info) == 2 else 'Format error'\n",
    "              else:\n",
    "                  description = 'Response format error'\n",
    "                  label = 'Unknown'\n",
    "          else:\n",
    "              description = 'No content returned'\n",
    "              label = 'Unknown'\n",
    "      except Exception as e:\n",
    "          print(f\"Error processing {image_path}: {str(e)}\")\n",
    "          description = 'Error in processing'\n",
    "          label = 'Unknown'\n",
    "      meme_id = os.path.basename(image_path)\n",
    "\n",
    "      results.append({'id_EXIST': meme_id, 'description': description, 'reference': label})\n",
    "\n",
    "  df = pd.DataFrame(results)\n",
    "  return df, answers"
   ]
  },
  {
   "cell_type": "code",
   "execution_count": null,
   "id": "447e57c5",
   "metadata": {
    "colab": {
     "base_uri": "https://localhost:8080/"
    },
    "executionInfo": {
     "elapsed": 7862997,
     "status": "ok",
     "timestamp": 1714336525547,
     "user": {
      "displayName": "Rong",
      "userId": "15769398465651090791"
     },
     "user_tz": -120
    },
    "id": "z8Q3QShIFQuM",
    "outputId": "b6c5d6cd-8a42-4f0f-bd90-e12b786146e0"
   },
   "outputs": [],
   "source": [
    "# process English meme and Spanish meme seperately\n",
    "english_path = \"./data/English_memes/\"\n",
    "english_memes_df, english_answers = create_df(english_path)"
   ]
  },
  {
   "cell_type": "code",
   "execution_count": null,
   "id": "30ccf0e9",
   "metadata": {
    "colab": {
     "base_uri": "https://localhost:8080/"
    },
    "executionInfo": {
     "elapsed": 4840730,
     "status": "ok",
     "timestamp": 1715095465331,
     "user": {
      "displayName": "Jing Ma",
      "userId": "06301856347973252019"
     },
     "user_tz": -120
    },
    "id": "ReFdNvsNV-rt",
    "outputId": "70428d45-2e4c-4a38-f73c-5ef794945ce6"
   },
   "outputs": [],
   "source": [
    "spanish_test = \"./data/Spanish_memes_test/\"\n",
    "spanish_memes_df_test, spanish_answers_test = create_df(spanish_test)"
   ]
  },
  {
   "cell_type": "code",
   "execution_count": null,
   "id": "66a84e1e",
   "metadata": {
    "colab": {
     "base_uri": "https://localhost:8080/"
    },
    "executionInfo": {
     "elapsed": 410,
     "status": "ok",
     "timestamp": 1715095486613,
     "user": {
      "displayName": "Jing Ma",
      "userId": "06301856347973252019"
     },
     "user_tz": -120
    },
    "id": "tz5ZoIuS3QHG",
    "outputId": "cbb6c151-2c84-42d8-ecf6-983053700699"
   },
   "outputs": [],
   "source": [
    "spanish_memes_df_test.set_index('id_EXIST', inplace=True)\n",
    "\n",
    "file_path = './data/Spanish_Meme_GPT_Description_test.json'\n",
    "\n",
    "spanish_memes_df_test.to_json(file_path, orient='index', indent=4)\n",
    "\n",
    "print(f'Data saved to {file_path}')"
   ]
  },
  {
   "cell_type": "code",
   "execution_count": null,
   "id": "3dad986f",
   "metadata": {
    "id": "zDMc8KB3M0mn"
   },
   "outputs": [],
   "source": [
    "import json\n",
    "\n",
    "spanish_answers_test = {key: {\"answer\": value} for key, value in spanish_answers_test.items()}\n",
    "\n",
    "with open('./data/Spanish_Meme_GPT_Initial_Answers_test.json', 'w') as json_file:\n",
    "    json.dump(spanish_answers_test, json_file, indent=4)"
   ]
  },
  {
   "cell_type": "code",
   "execution_count": null,
   "id": "18785e42",
   "metadata": {
    "id": "Xfx5LkLf0kxx"
   },
   "outputs": [],
   "source": [
    "# process English meme and Spanish meme seperately\n",
    "spanish_path = \"./data/Spanish_memes/\"\n",
    "spanish_memes_df, spanish_answers = create_df(spanish_path)"
   ]
  },
  {
   "cell_type": "code",
   "execution_count": null,
   "id": "e95e76bc",
   "metadata": {
    "id": "dBIVj18MMazf"
   },
   "outputs": [],
   "source": [
    "spanish_memes_df.set_index('id_EXIST', inplace=True)\n",
    "\n",
    "\n",
    "file_path = './data/Spanish_Meme_GPT_Description.json'\n",
    "\n",
    "\n",
    "spanish_memes_df.to_json(file_path, orient='index', indent=4)\n",
    "\n",
    "print(f'Data saved to {file_path}')"
   ]
  },
  {
   "cell_type": "code",
   "execution_count": null,
   "id": "4499c236",
   "metadata": {
    "id": "SW1EIcxkNT7v"
   },
   "outputs": [],
   "source": [
    "import json\n",
    "\n",
    "spanish_answers = {key: {\"answer\": value} for key, value in spanish_answers.items()}\n",
    "\n",
    "with open('./data/Spanish_Meme_GPT_Initial_Answers.json', 'w') as json_file:\n",
    "    json.dump(spanish_answers, json_file)"
   ]
  },
  {
   "cell_type": "markdown",
   "id": "7af705b4",
   "metadata": {
    "id": "W-bydT88_Ux8"
   },
   "source": [
    "Process the test data and save it in json file"
   ]
  },
  {
   "cell_type": "code",
   "execution_count": null,
   "id": "9c964032",
   "metadata": {
    "id": "3RSltWa-_w-3"
   },
   "outputs": [],
   "source": [
    "# create two directories to store the memes\n",
    "os.makedirs('./data/Spanish_memes_test', exist_ok=True)\n",
    "os.makedirs('./data/English_memes_test', exist_ok=True)\n",
    "\n",
    "memes_path = './data/EXIST 2024 Memes Dataset/test/memes'\n",
    "for filename in os.listdir(memes_path):\n",
    "\n",
    "    if filename.startswith('3'):\n",
    "\n",
    "        shutil.copy(os.path.join(memes_path, filename), os.path.join('./data/Spanish_memes_test', filename))\n",
    "    elif filename.startswith('4'):\n",
    "\n",
    "        shutil.copy(os.path.join(memes_path, filename), os.path.join('./data/English_memes_test', filename))"
   ]
  },
  {
   "cell_type": "code",
   "execution_count": null,
   "id": "e0527a7b",
   "metadata": {
    "id": "oBSTPtFa_QD9"
   },
   "outputs": [],
   "source": [
    "english_test_path = \"./data/English_memes_test\"\n",
    "english_test_memes_df, english_test_answers = create_df(english_test_path)"
   ]
  },
  {
   "cell_type": "code",
   "execution_count": null,
   "id": "56a82f97",
   "metadata": {
    "id": "abYxVhh9_ff8"
   },
   "outputs": [],
   "source": [
    "english_test_memes_df.set_index('id_EXIST', inplace=True)\n",
    "\n",
    "file_path = './data/English_Meme_GPT_Description_test.json'\n",
    "\n",
    "english_test_memes_df.to_json(file_path, orient='index', indent=4)\n",
    "\n",
    "print(f'Data saved to {file_path}')"
   ]
  },
  {
   "cell_type": "code",
   "execution_count": null,
   "id": "bc43d42e",
   "metadata": {
    "id": "o0O-XFjs_g-l"
   },
   "outputs": [],
   "source": [
    "import json\n",
    "english_test_answers = {key: {\"answer\": value} for key, value in english_test_answers.items()}\n",
    "with open('./data/English_Meme_GPT_Initial_Answers_test.json', 'w') as json_file:\n",
    "    json.dump(english_test_answers, json_file)"
   ]
  },
  {
   "cell_type": "code",
   "execution_count": null,
   "id": "8047df6e",
   "metadata": {
    "id": "p0ZME-uU_e4z"
   },
   "outputs": [],
   "source": [
    "# process English meme and Spanish meme seperately\n",
    "spanish_test_path = \"./data/English_memes_test\"\n",
    "spanish_test_memes_df, spanish_test_answers = create_df(spanish_test_path)"
   ]
  },
  {
   "cell_type": "code",
   "execution_count": null,
   "id": "d5c3448a",
   "metadata": {
    "id": "ATGtfiuX_hxE"
   },
   "outputs": [],
   "source": [
    "spanish_test_memes_df.set_index('id_EXIST', inplace=True)\n",
    "file_path = './data/Spanish_Meme_GPT_Description_test.json'\n",
    "\n",
    "spanish_test_memes_df.to_json(file_path, orient='index', indent=4)\n",
    "\n",
    "print(f'Data saved to {file_path}')"
   ]
  },
  {
   "cell_type": "code",
   "execution_count": null,
   "id": "729b2e06",
   "metadata": {
    "id": "QlFVSRZo_jyR"
   },
   "outputs": [],
   "source": [
    "import json\n",
    "\n",
    "spanish_test_answers = {key: {\"answer\": value} for key, value in spanish_answers.items()}\n",
    "\n",
    "with open('./data/Spanish_Meme_GPT_Initial_Answers_test.json', 'w') as json_file:\n",
    "    json.dump(spanish_test_answers, json_file)"
   ]
  },
  {
   "cell_type": "code",
   "execution_count": null,
   "id": "50616091",
   "metadata": {
    "id": "Po5Q6UZRz5oK"
   },
   "outputs": [],
   "source": []
  }
 ],
 "metadata": {
  "colab": {
   "machine_shape": "hm",
   "provenance": []
  },
  "kernelspec": {
   "display_name": "Python 3",
   "name": "python3"
  },
  "language_info": {
   "name": "python"
  }
 },
 "nbformat": 4,
 "nbformat_minor": 5
}
